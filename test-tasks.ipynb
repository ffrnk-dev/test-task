{
 "cells": [
  {
   "cell_type": "markdown",
   "id": "9dd17868",
   "metadata": {},
   "source": [
    "# Тестовое задание для Artec 3D\n",
    "### Позиция PPC Specialist"
   ]
  },
  {
   "attachments": {},
   "cell_type": "markdown",
   "id": "5df089b7",
   "metadata": {},
   "source": [
    "> Необходимо проанализировать представленные данные на вкладке date и ответить на ряд вопросов:\n",
    "> 1. в каком квартале показатель конверсии из клика в лид выше для стран Group B?\n",
    "> 2. какая цена за лид в Q4 в кампаниях из Group A?\n",
    "> 3. по какому из источников платного трафика суммарно больше всего лидов в Q3?\n",
    "> 4. какой тип кампании имеет самый высокий показатель конверсии из клика в лид суммарно за два квартала?"
   ]
  },
  {
   "cell_type": "code",
   "execution_count": 167,
   "id": "fcabb1c4",
   "metadata": {},
   "outputs": [],
   "source": [
    "# Ипортируем необходимые библиотеки\n",
    "import pandas as pd\n",
    "import numpy as np"
   ]
  },
  {
   "cell_type": "code",
   "execution_count": 168,
   "id": "1f9510e6",
   "metadata": {},
   "outputs": [],
   "source": [
    "# Считаем данные из xlsx файлов, отдельно сырые данные, отдельно страны\n",
    "data = pd.read_excel(\"test.xlsx\", sheet_name='data')\n",
    "country = pd.read_excel(\"test.xlsx\", sheet_name='country')"
   ]
  },
  {
   "cell_type": "markdown",
   "id": "29e364d3",
   "metadata": {},
   "source": [
    "### Этап 0. Разведочный анализ данных\n",
    "Посмотрим на типы данных, найдем аномалии, приведем типы"
   ]
  },
  {
   "cell_type": "code",
   "execution_count": 169,
   "id": "f0eadcd2",
   "metadata": {
    "scrolled": false
   },
   "outputs": [
    {
     "data": {
      "text/plain": [
       "Source                object\n",
       "Country               object\n",
       "Campaign              object\n",
       "Year Month    datetime64[ns]\n",
       "Impr.                float64\n",
       "Clicks               float64\n",
       "Cost                 float64\n",
       "Leads                float64\n",
       "dtype: object"
      ]
     },
     "execution_count": 169,
     "metadata": {},
     "output_type": "execute_result"
    }
   ],
   "source": [
    "data.dtypes"
   ]
  },
  {
   "cell_type": "markdown",
   "id": "205aa7ed",
   "metadata": {},
   "source": [
    "* Year Month уже в удобном типе datetime64, но добавим еще и квартал отдельной колонкой\n",
    "* Остальные поля в типе float64, посмотрим подробнее на них\n",
    "* Как минимум Clicls и Leads должны быть целочисленными значениями"
   ]
  },
  {
   "cell_type": "code",
   "execution_count": 170,
   "id": "3e4c3576",
   "metadata": {
    "scrolled": true
   },
   "outputs": [
    {
     "data": {
      "text/html": [
       "<div>\n",
       "<style scoped>\n",
       "    .dataframe tbody tr th:only-of-type {\n",
       "        vertical-align: middle;\n",
       "    }\n",
       "\n",
       "    .dataframe tbody tr th {\n",
       "        vertical-align: top;\n",
       "    }\n",
       "\n",
       "    .dataframe thead th {\n",
       "        text-align: right;\n",
       "    }\n",
       "</style>\n",
       "<table border=\"1\" class=\"dataframe\">\n",
       "  <thead>\n",
       "    <tr style=\"text-align: right;\">\n",
       "      <th></th>\n",
       "      <th>Impr.</th>\n",
       "      <th>Clicks</th>\n",
       "      <th>Cost</th>\n",
       "      <th>Leads</th>\n",
       "    </tr>\n",
       "  </thead>\n",
       "  <tbody>\n",
       "    <tr>\n",
       "      <th>count</th>\n",
       "      <td>20223.000000</td>\n",
       "      <td>21749.000000</td>\n",
       "      <td>21749.000000</td>\n",
       "      <td>1526.000000</td>\n",
       "    </tr>\n",
       "    <tr>\n",
       "      <th>mean</th>\n",
       "      <td>1502.642585</td>\n",
       "      <td>36.054564</td>\n",
       "      <td>31.626332</td>\n",
       "      <td>4.701990</td>\n",
       "    </tr>\n",
       "    <tr>\n",
       "      <th>std</th>\n",
       "      <td>7452.864768</td>\n",
       "      <td>170.893371</td>\n",
       "      <td>257.173608</td>\n",
       "      <td>6.794808</td>\n",
       "    </tr>\n",
       "    <tr>\n",
       "      <th>min</th>\n",
       "      <td>0.000000</td>\n",
       "      <td>0.000000</td>\n",
       "      <td>0.000000</td>\n",
       "      <td>2.234580</td>\n",
       "    </tr>\n",
       "    <tr>\n",
       "      <th>25%</th>\n",
       "      <td>6.000000</td>\n",
       "      <td>0.000000</td>\n",
       "      <td>0.000000</td>\n",
       "      <td>2.234580</td>\n",
       "    </tr>\n",
       "    <tr>\n",
       "      <th>50%</th>\n",
       "      <td>50.000000</td>\n",
       "      <td>1.345260</td>\n",
       "      <td>0.497851</td>\n",
       "      <td>2.234580</td>\n",
       "    </tr>\n",
       "    <tr>\n",
       "      <th>75%</th>\n",
       "      <td>476.000000</td>\n",
       "      <td>13.452600</td>\n",
       "      <td>5.884849</td>\n",
       "      <td>4.469160</td>\n",
       "    </tr>\n",
       "    <tr>\n",
       "      <th>max</th>\n",
       "      <td>317854.000000</td>\n",
       "      <td>8125.370400</td>\n",
       "      <td>16488.186367</td>\n",
       "      <td>127.371060</td>\n",
       "    </tr>\n",
       "  </tbody>\n",
       "</table>\n",
       "</div>"
      ],
      "text/plain": [
       "               Impr.        Clicks          Cost        Leads\n",
       "count   20223.000000  21749.000000  21749.000000  1526.000000\n",
       "mean     1502.642585     36.054564     31.626332     4.701990\n",
       "std      7452.864768    170.893371    257.173608     6.794808\n",
       "min         0.000000      0.000000      0.000000     2.234580\n",
       "25%         6.000000      0.000000      0.000000     2.234580\n",
       "50%        50.000000      1.345260      0.497851     2.234580\n",
       "75%       476.000000     13.452600      5.884849     4.469160\n",
       "max    317854.000000   8125.370400  16488.186367   127.371060"
      ]
     },
     "execution_count": 170,
     "metadata": {},
     "output_type": "execute_result"
    }
   ],
   "source": [
    "# Посмотрим на float64 поля\n",
    "data.describe()"
   ]
  },
  {
   "cell_type": "markdown",
   "id": "79ea03c5",
   "metadata": {},
   "source": [
    "* Наблюдаю странную ситуацию, количество лидов и кликов могут быть нецелыми числами\n",
    "* Кроме того, сумма расхода содержит после запятой больше двух знаков\n",
    "* В реально жизни нужно запросить у автора выгрузки комментарий, почему входные данные не метчатся с ожиданиями\n",
    "* Намеренно решаю не округлять, не приводить к иным типам"
   ]
  },
  {
   "cell_type": "code",
   "execution_count": 171,
   "id": "af53d8e9",
   "metadata": {},
   "outputs": [],
   "source": [
    "# Добавим квартал\n",
    "data[\"quarter\"] = data['Year Month'].dt.quarter"
   ]
  },
  {
   "cell_type": "code",
   "execution_count": 176,
   "id": "0dbb14e5",
   "metadata": {
    "scrolled": true
   },
   "outputs": [
    {
     "data": {
      "text/html": [
       "<div>\n",
       "<style scoped>\n",
       "    .dataframe tbody tr th:only-of-type {\n",
       "        vertical-align: middle;\n",
       "    }\n",
       "\n",
       "    .dataframe tbody tr th {\n",
       "        vertical-align: top;\n",
       "    }\n",
       "\n",
       "    .dataframe thead th {\n",
       "        text-align: right;\n",
       "    }\n",
       "</style>\n",
       "<table border=\"1\" class=\"dataframe\">\n",
       "  <thead>\n",
       "    <tr style=\"text-align: right;\">\n",
       "      <th></th>\n",
       "      <th>Source</th>\n",
       "      <th>Country</th>\n",
       "      <th>Campaign</th>\n",
       "      <th>Year Month</th>\n",
       "      <th>Impr.</th>\n",
       "      <th>Clicks</th>\n",
       "      <th>Cost</th>\n",
       "      <th>Leads</th>\n",
       "      <th>quarter</th>\n",
       "    </tr>\n",
       "  </thead>\n",
       "  <tbody>\n",
       "    <tr>\n",
       "      <th>0</th>\n",
       "      <td>google</td>\n",
       "      <td>Anguilla</td>\n",
       "      <td>Search-brand-spanish</td>\n",
       "      <td>2021-07-01</td>\n",
       "      <td>1.0</td>\n",
       "      <td>0.0</td>\n",
       "      <td>0.0</td>\n",
       "      <td>0.0</td>\n",
       "      <td>3</td>\n",
       "    </tr>\n",
       "    <tr>\n",
       "      <th>1</th>\n",
       "      <td>google</td>\n",
       "      <td>Anguilla</td>\n",
       "      <td>Search-generic-eng-3st.group</td>\n",
       "      <td>2021-07-01</td>\n",
       "      <td>2.0</td>\n",
       "      <td>0.0</td>\n",
       "      <td>0.0</td>\n",
       "      <td>0.0</td>\n",
       "      <td>3</td>\n",
       "    </tr>\n",
       "    <tr>\n",
       "      <th>2</th>\n",
       "      <td>google</td>\n",
       "      <td>Antigua and Barbuda</td>\n",
       "      <td>Search-generic-eng-3st.group</td>\n",
       "      <td>2021-07-01</td>\n",
       "      <td>2.0</td>\n",
       "      <td>0.0</td>\n",
       "      <td>0.0</td>\n",
       "      <td>0.0</td>\n",
       "      <td>3</td>\n",
       "    </tr>\n",
       "  </tbody>\n",
       "</table>\n",
       "</div>"
      ],
      "text/plain": [
       "   Source              Country                      Campaign Year Month  \\\n",
       "0  google             Anguilla          Search-brand-spanish 2021-07-01   \n",
       "1  google             Anguilla  Search-generic-eng-3st.group 2021-07-01   \n",
       "2  google  Antigua and Barbuda  Search-generic-eng-3st.group 2021-07-01   \n",
       "\n",
       "   Impr.  Clicks  Cost  Leads  quarter  \n",
       "0    1.0     0.0   0.0    0.0        3  \n",
       "1    2.0     0.0   0.0    0.0        3  \n",
       "2    2.0     0.0   0.0    0.0        3  "
      ]
     },
     "execution_count": 176,
     "metadata": {},
     "output_type": "execute_result"
    }
   ],
   "source": [
    "data.head(3)"
   ]
  },
  {
   "cell_type": "code",
   "execution_count": 175,
   "id": "840889b5",
   "metadata": {},
   "outputs": [],
   "source": [
    "# Заменим все NaN значения нулям\n",
    "data = data.fillna(0)"
   ]
  },
  {
   "cell_type": "code",
   "execution_count": 173,
   "id": "0aecb48c",
   "metadata": {
    "scrolled": true
   },
   "outputs": [
    {
     "data": {
      "text/plain": [
       "Group 1    object\n",
       "Group 2    object\n",
       "dtype: object"
      ]
     },
     "execution_count": 173,
     "metadata": {},
     "output_type": "execute_result"
    }
   ],
   "source": [
    "# Посмотрим на данные из листа со списком стран\n",
    "country.dtypes"
   ]
  },
  {
   "cell_type": "code",
   "execution_count": 174,
   "id": "f8e80e14",
   "metadata": {
    "scrolled": false
   },
   "outputs": [
    {
     "data": {
      "text/html": [
       "<div>\n",
       "<style scoped>\n",
       "    .dataframe tbody tr th:only-of-type {\n",
       "        vertical-align: middle;\n",
       "    }\n",
       "\n",
       "    .dataframe tbody tr th {\n",
       "        vertical-align: top;\n",
       "    }\n",
       "\n",
       "    .dataframe thead th {\n",
       "        text-align: right;\n",
       "    }\n",
       "</style>\n",
       "<table border=\"1\" class=\"dataframe\">\n",
       "  <thead>\n",
       "    <tr style=\"text-align: right;\">\n",
       "      <th></th>\n",
       "      <th>Group 1</th>\n",
       "      <th>Group 2</th>\n",
       "    </tr>\n",
       "  </thead>\n",
       "  <tbody>\n",
       "    <tr>\n",
       "      <th>0</th>\n",
       "      <td>Australia</td>\n",
       "      <td>Georgia</td>\n",
       "    </tr>\n",
       "    <tr>\n",
       "      <th>1</th>\n",
       "      <td>Austria</td>\n",
       "      <td>Israel</td>\n",
       "    </tr>\n",
       "    <tr>\n",
       "      <th>2</th>\n",
       "      <td>Belgium</td>\n",
       "      <td>Cambodia</td>\n",
       "    </tr>\n",
       "  </tbody>\n",
       "</table>\n",
       "</div>"
      ],
      "text/plain": [
       "     Group 1   Group 2\n",
       "0  Australia   Georgia\n",
       "1    Austria    Israel\n",
       "2    Belgium  Cambodia"
      ]
     },
     "execution_count": 174,
     "metadata": {},
     "output_type": "execute_result"
    }
   ],
   "source": [
    "country.head(3)"
   ]
  },
  {
   "cell_type": "markdown",
   "id": "30e2b843",
   "metadata": {},
   "source": [
    "## Этап 1. Подготовим данные для анализа\n",
    "* Разметим группой стран исходные данные, это нам потребуется для дальнейшей группировки"
   ]
  },
  {
   "cell_type": "code",
   "execution_count": 219,
   "id": "65e23f55",
   "metadata": {},
   "outputs": [],
   "source": [
    "# Создадим list по группам\n",
    "country_1 = country['Group 1'].tolist()\n",
    "country_2 = country['Group 2'].tolist()\n",
    "\n",
    "# Удалим пустые строки из листов\n",
    "country_1 = [x for x in country_1 if str(x) != 'nan']\n",
    "country_2 = [x for x in country_2 if str(x) != 'nan']"
   ]
  },
  {
   "cell_type": "code",
   "execution_count": 226,
   "id": "ad7a2171",
   "metadata": {},
   "outputs": [],
   "source": [
    "# Проверим, нет ли в сырых данных тех стран, которые отличаются от номенклатуры стран в листе country\n",
    "\n",
    "country_raw = data[\"Country\"].tolist()\n",
    "\n",
    "# Оставим только уникальные значение в списке\n",
    "country_raw = list(dict.fromkeys(country_raw))"
   ]
  },
  {
   "cell_type": "code",
   "execution_count": 239,
   "id": "9e150139",
   "metadata": {},
   "outputs": [
    {
     "name": "stdout",
     "output_type": "stream",
     "text": [
      "['South Korea', 'Austraia', 'Korea, South']\n"
     ]
    }
   ],
   "source": [
    "# Посмотрим на пересечение списков\n",
    "c = []\n",
    "country_total = country_1 + country_2\n",
    " \n",
    "for i in country_raw:\n",
    "    if i in country_total:\n",
    "        continue\n",
    "    else:\n",
    "        c.append(i)\n",
    " \n",
    "print(c)"
   ]
  },
  {
   "attachments": {},
   "cell_type": "markdown",
   "id": "fad0c786",
   "metadata": {},
   "source": [
    "В данных для анализа обнаружено три страны, которых нету в справочнике. Размечу их вручную, в Group 1"
   ]
  },
  {
   "cell_type": "code",
   "execution_count": 240,
   "id": "723492c9",
   "metadata": {},
   "outputs": [],
   "source": [
    "# Добавим данные в список руками\n",
    "country_1.append('South Korea')\n",
    "country_1.append('Korea, South')\n",
    "country_1.append('Austraia') # Скорее всего это Austria"
   ]
  },
  {
   "cell_type": "code",
   "execution_count": 242,
   "id": "ddc34e7d",
   "metadata": {},
   "outputs": [],
   "source": [
    "# Разметим страны по группам\n",
    "\n",
    "def country_setter(country):\n",
    "    if country in country_1:\n",
    "        return(\"Group_1\")\n",
    "    if country in country_2:\n",
    "        return(\"Group_2\")\n",
    "    \n",
    "# Применим фнукцию на датасет\n",
    "data['Country_group'] = data.apply(lambda data: country_setter(data['Country']), axis=1)"
   ]
  },
  {
   "cell_type": "code",
   "execution_count": 245,
   "id": "879fdb65",
   "metadata": {},
   "outputs": [
    {
     "data": {
      "text/html": [
       "<div>\n",
       "<style scoped>\n",
       "    .dataframe tbody tr th:only-of-type {\n",
       "        vertical-align: middle;\n",
       "    }\n",
       "\n",
       "    .dataframe tbody tr th {\n",
       "        vertical-align: top;\n",
       "    }\n",
       "\n",
       "    .dataframe thead th {\n",
       "        text-align: right;\n",
       "    }\n",
       "</style>\n",
       "<table border=\"1\" class=\"dataframe\">\n",
       "  <thead>\n",
       "    <tr style=\"text-align: right;\">\n",
       "      <th></th>\n",
       "      <th>Source</th>\n",
       "      <th>Country</th>\n",
       "      <th>Campaign</th>\n",
       "      <th>Year Month</th>\n",
       "      <th>Impr.</th>\n",
       "      <th>Clicks</th>\n",
       "      <th>Cost</th>\n",
       "      <th>Leads</th>\n",
       "      <th>quarter</th>\n",
       "      <th>Country_group</th>\n",
       "    </tr>\n",
       "  </thead>\n",
       "  <tbody>\n",
       "    <tr>\n",
       "      <th>0</th>\n",
       "      <td>google</td>\n",
       "      <td>Anguilla</td>\n",
       "      <td>Search-brand-spanish</td>\n",
       "      <td>2021-07-01</td>\n",
       "      <td>1.0</td>\n",
       "      <td>0.0</td>\n",
       "      <td>0.0</td>\n",
       "      <td>0.0</td>\n",
       "      <td>3</td>\n",
       "      <td>Group_2</td>\n",
       "    </tr>\n",
       "    <tr>\n",
       "      <th>1</th>\n",
       "      <td>google</td>\n",
       "      <td>Anguilla</td>\n",
       "      <td>Search-generic-eng-3st.group</td>\n",
       "      <td>2021-07-01</td>\n",
       "      <td>2.0</td>\n",
       "      <td>0.0</td>\n",
       "      <td>0.0</td>\n",
       "      <td>0.0</td>\n",
       "      <td>3</td>\n",
       "      <td>Group_2</td>\n",
       "    </tr>\n",
       "    <tr>\n",
       "      <th>2</th>\n",
       "      <td>google</td>\n",
       "      <td>Antigua and Barbuda</td>\n",
       "      <td>Search-generic-eng-3st.group</td>\n",
       "      <td>2021-07-01</td>\n",
       "      <td>2.0</td>\n",
       "      <td>0.0</td>\n",
       "      <td>0.0</td>\n",
       "      <td>0.0</td>\n",
       "      <td>3</td>\n",
       "      <td>Group_2</td>\n",
       "    </tr>\n",
       "  </tbody>\n",
       "</table>\n",
       "</div>"
      ],
      "text/plain": [
       "   Source              Country                      Campaign Year Month  \\\n",
       "0  google             Anguilla          Search-brand-spanish 2021-07-01   \n",
       "1  google             Anguilla  Search-generic-eng-3st.group 2021-07-01   \n",
       "2  google  Antigua and Barbuda  Search-generic-eng-3st.group 2021-07-01   \n",
       "\n",
       "   Impr.  Clicks  Cost  Leads  quarter Country_group  \n",
       "0    1.0     0.0   0.0    0.0        3       Group_2  \n",
       "1    2.0     0.0   0.0    0.0        3       Group_2  \n",
       "2    2.0     0.0   0.0    0.0        3       Group_2  "
      ]
     },
     "execution_count": 245,
     "metadata": {},
     "output_type": "execute_result"
    }
   ],
   "source": [
    "# Посмотрим на первые строки таблицы, убедимся, что группа назначена\n",
    "data.head(3)"
   ]
  },
  {
   "cell_type": "markdown",
   "id": "ddf469e3",
   "metadata": {},
   "source": [
    "## Этап 2. Анализ данных\n",
    "\n",
    "> 1. в каком квартале показатель конверсии из клика в лид выше для стран Group B?\n",
    "> 2. какая цена за лид в Q4 в кампаниях из Group A?\n",
    "> 3. по какому из источников платного трафика суммарно больше всего лидов в Q3?\n",
    "> 4. какой тип кампании имеет самый высокий показатель конверсии из клика в лид суммарно за два квартала?"
   ]
  },
  {
   "cell_type": "markdown",
   "id": "4ce83f3f",
   "metadata": {},
   "source": [
    "### 1. В каком квартале показатель конверсии из клика в лид выше для стран Group B?"
   ]
  },
  {
   "cell_type": "code",
   "execution_count": 250,
   "id": "809e2234",
   "metadata": {},
   "outputs": [
    {
     "data": {
      "text/html": [
       "<div>\n",
       "<style scoped>\n",
       "    .dataframe tbody tr th:only-of-type {\n",
       "        vertical-align: middle;\n",
       "    }\n",
       "\n",
       "    .dataframe tbody tr th {\n",
       "        vertical-align: top;\n",
       "    }\n",
       "\n",
       "    .dataframe thead th {\n",
       "        text-align: right;\n",
       "    }\n",
       "</style>\n",
       "<table border=\"1\" class=\"dataframe\">\n",
       "  <thead>\n",
       "    <tr style=\"text-align: right;\">\n",
       "      <th></th>\n",
       "      <th></th>\n",
       "      <th>Impr.</th>\n",
       "      <th>Clicks</th>\n",
       "      <th>Cost</th>\n",
       "      <th>Leads</th>\n",
       "      <th>CR</th>\n",
       "    </tr>\n",
       "    <tr>\n",
       "      <th>quarter</th>\n",
       "      <th>Country_group</th>\n",
       "      <th></th>\n",
       "      <th></th>\n",
       "      <th></th>\n",
       "      <th></th>\n",
       "      <th></th>\n",
       "    </tr>\n",
       "  </thead>\n",
       "  <tbody>\n",
       "    <tr>\n",
       "      <th rowspan=\"2\" valign=\"top\">3</th>\n",
       "      <th>Group_1</th>\n",
       "      <td>4934129.0</td>\n",
       "      <td>145694.34852</td>\n",
       "      <td>180906.224414</td>\n",
       "      <td>1678.16958</td>\n",
       "      <td>0.011518</td>\n",
       "    </tr>\n",
       "    <tr>\n",
       "      <th>Group_2</th>\n",
       "      <td>7284335.0</td>\n",
       "      <td>168820.71318</td>\n",
       "      <td>196197.196951</td>\n",
       "      <td>1801.07148</td>\n",
       "      <td>0.010669</td>\n",
       "    </tr>\n",
       "    <tr>\n",
       "      <th rowspan=\"2\" valign=\"top\">4</th>\n",
       "      <th>Group_1</th>\n",
       "      <td>7669684.0</td>\n",
       "      <td>201371.96940</td>\n",
       "      <td>157252.155605</td>\n",
       "      <td>1689.34248</td>\n",
       "      <td>0.008389</td>\n",
       "    </tr>\n",
       "    <tr>\n",
       "      <th>Group_2</th>\n",
       "      <td>10499793.0</td>\n",
       "      <td>268263.67764</td>\n",
       "      <td>153485.517772</td>\n",
       "      <td>2006.65284</td>\n",
       "      <td>0.007480</td>\n",
       "    </tr>\n",
       "  </tbody>\n",
       "</table>\n",
       "</div>"
      ],
      "text/plain": [
       "                            Impr.        Clicks           Cost       Leads  \\\n",
       "quarter Country_group                                                        \n",
       "3       Group_1         4934129.0  145694.34852  180906.224414  1678.16958   \n",
       "        Group_2         7284335.0  168820.71318  196197.196951  1801.07148   \n",
       "4       Group_1         7669684.0  201371.96940  157252.155605  1689.34248   \n",
       "        Group_2        10499793.0  268263.67764  153485.517772  2006.65284   \n",
       "\n",
       "                             CR  \n",
       "quarter Country_group            \n",
       "3       Group_1        0.011518  \n",
       "        Group_2        0.010669  \n",
       "4       Group_1        0.008389  \n",
       "        Group_2        0.007480  "
      ]
     },
     "execution_count": 250,
     "metadata": {},
     "output_type": "execute_result"
    }
   ],
   "source": [
    "# Скорее всего под группой стран Group B подразумевается Group 2 из исходных данных\n",
    "# Сгруппируем по 'quarter','Country_group', посчитаем конверсию, найдем такой квартал, где показатель конверсии из клика в лид выше для Group 2\n",
    "\n",
    "task_1 = data.groupby(['quarter','Country_group']).sum()\n",
    "task_1['CR'] = task_1['Leads'] / task_1['Clicks']\n",
    "task_1"
   ]
  },
  {
   "cell_type": "markdown",
   "id": "1914626c",
   "metadata": {},
   "source": [
    "#### Ответ: \n",
    "Формулировка задания неоднозначная, выше чем что?\n",
    "* Выше, чем Group_1? — Таких кварталов нет, в каждом квартале, в Group_1 показатель конверсии выше\n",
    "* Выше, чем Group_2, но в другом квартале? — Показатель конверсии в Group_2 максимален в квартале 3"
   ]
  },
  {
   "cell_type": "markdown",
   "id": "c4090dd2",
   "metadata": {},
   "source": [
    "### 2. Какая цена за лид в Q4 в кампаниях из Group A?"
   ]
  },
  {
   "cell_type": "code",
   "execution_count": 252,
   "id": "13013ff2",
   "metadata": {
    "scrolled": false
   },
   "outputs": [
    {
     "data": {
      "text/html": [
       "<div>\n",
       "<style scoped>\n",
       "    .dataframe tbody tr th:only-of-type {\n",
       "        vertical-align: middle;\n",
       "    }\n",
       "\n",
       "    .dataframe tbody tr th {\n",
       "        vertical-align: top;\n",
       "    }\n",
       "\n",
       "    .dataframe thead th {\n",
       "        text-align: right;\n",
       "    }\n",
       "</style>\n",
       "<table border=\"1\" class=\"dataframe\">\n",
       "  <thead>\n",
       "    <tr style=\"text-align: right;\">\n",
       "      <th></th>\n",
       "      <th></th>\n",
       "      <th>Impr.</th>\n",
       "      <th>Clicks</th>\n",
       "      <th>Cost</th>\n",
       "      <th>Leads</th>\n",
       "      <th>CPL</th>\n",
       "    </tr>\n",
       "    <tr>\n",
       "      <th>quarter</th>\n",
       "      <th>Country_group</th>\n",
       "      <th></th>\n",
       "      <th></th>\n",
       "      <th></th>\n",
       "      <th></th>\n",
       "      <th></th>\n",
       "    </tr>\n",
       "  </thead>\n",
       "  <tbody>\n",
       "    <tr>\n",
       "      <th rowspan=\"2\" valign=\"top\">3</th>\n",
       "      <th>Group_1</th>\n",
       "      <td>4934129.0</td>\n",
       "      <td>145694.34852</td>\n",
       "      <td>180906.224414</td>\n",
       "      <td>1678.16958</td>\n",
       "      <td>107.799728</td>\n",
       "    </tr>\n",
       "    <tr>\n",
       "      <th>Group_2</th>\n",
       "      <td>7284335.0</td>\n",
       "      <td>168820.71318</td>\n",
       "      <td>196197.196951</td>\n",
       "      <td>1801.07148</td>\n",
       "      <td>108.933598</td>\n",
       "    </tr>\n",
       "    <tr>\n",
       "      <th rowspan=\"2\" valign=\"top\">4</th>\n",
       "      <th>Group_1</th>\n",
       "      <td>7669684.0</td>\n",
       "      <td>201371.96940</td>\n",
       "      <td>157252.155605</td>\n",
       "      <td>1689.34248</td>\n",
       "      <td>93.084829</td>\n",
       "    </tr>\n",
       "    <tr>\n",
       "      <th>Group_2</th>\n",
       "      <td>10499793.0</td>\n",
       "      <td>268263.67764</td>\n",
       "      <td>153485.517772</td>\n",
       "      <td>2006.65284</td>\n",
       "      <td>76.488327</td>\n",
       "    </tr>\n",
       "  </tbody>\n",
       "</table>\n",
       "</div>"
      ],
      "text/plain": [
       "                            Impr.        Clicks           Cost       Leads  \\\n",
       "quarter Country_group                                                        \n",
       "3       Group_1         4934129.0  145694.34852  180906.224414  1678.16958   \n",
       "        Group_2         7284335.0  168820.71318  196197.196951  1801.07148   \n",
       "4       Group_1         7669684.0  201371.96940  157252.155605  1689.34248   \n",
       "        Group_2        10499793.0  268263.67764  153485.517772  2006.65284   \n",
       "\n",
       "                              CPL  \n",
       "quarter Country_group              \n",
       "3       Group_1        107.799728  \n",
       "        Group_2        108.933598  \n",
       "4       Group_1         93.084829  \n",
       "        Group_2         76.488327  "
      ]
     },
     "execution_count": 252,
     "metadata": {},
     "output_type": "execute_result"
    }
   ],
   "source": [
    "# Сгруппируем, посчитаем CPL\n",
    "task_2 = data.groupby(['quarter','Country_group']).sum()\n",
    "task_2['CPL'] = task_2['Cost'] / task_2['Leads']\n",
    "task_2"
   ]
  },
  {
   "cell_type": "markdown",
   "id": "be9ea92c",
   "metadata": {},
   "source": [
    "#### Ответ: цена за лид в Q4 в кампаниях из Group A = 93.08"
   ]
  },
  {
   "cell_type": "markdown",
   "id": "a7f85bfd",
   "metadata": {},
   "source": [
    "### 3. По какому из источников платного трафика суммарно больше всего лидов в Q3?"
   ]
  },
  {
   "cell_type": "code",
   "execution_count": 254,
   "id": "4c73b0fe",
   "metadata": {},
   "outputs": [
    {
     "data": {
      "text/html": [
       "<div>\n",
       "<style scoped>\n",
       "    .dataframe tbody tr th:only-of-type {\n",
       "        vertical-align: middle;\n",
       "    }\n",
       "\n",
       "    .dataframe tbody tr th {\n",
       "        vertical-align: top;\n",
       "    }\n",
       "\n",
       "    .dataframe thead th {\n",
       "        text-align: right;\n",
       "    }\n",
       "</style>\n",
       "<table border=\"1\" class=\"dataframe\">\n",
       "  <thead>\n",
       "    <tr style=\"text-align: right;\">\n",
       "      <th></th>\n",
       "      <th></th>\n",
       "      <th>Impr.</th>\n",
       "      <th>Clicks</th>\n",
       "      <th>Cost</th>\n",
       "      <th>Leads</th>\n",
       "    </tr>\n",
       "    <tr>\n",
       "      <th>quarter</th>\n",
       "      <th>Source</th>\n",
       "      <th></th>\n",
       "      <th></th>\n",
       "      <th></th>\n",
       "      <th></th>\n",
       "    </tr>\n",
       "  </thead>\n",
       "  <tbody>\n",
       "    <tr>\n",
       "      <th rowspan=\"4\" valign=\"top\">3</th>\n",
       "      <th>bing</th>\n",
       "      <td>3392360.0</td>\n",
       "      <td>71475.00906</td>\n",
       "      <td>81807.405538</td>\n",
       "      <td>368.70570</td>\n",
       "    </tr>\n",
       "    <tr>\n",
       "      <th>facebook</th>\n",
       "      <td>150052.0</td>\n",
       "      <td>3739.82280</td>\n",
       "      <td>1776.506120</td>\n",
       "      <td>44.69160</td>\n",
       "    </tr>\n",
       "    <tr>\n",
       "      <th>facebook.com</th>\n",
       "      <td>2946333.0</td>\n",
       "      <td>86259.41646</td>\n",
       "      <td>132179.983531</td>\n",
       "      <td>1369.79754</td>\n",
       "    </tr>\n",
       "    <tr>\n",
       "      <th>google</th>\n",
       "      <td>5729719.0</td>\n",
       "      <td>153040.81338</td>\n",
       "      <td>161339.526177</td>\n",
       "      <td>1696.04622</td>\n",
       "    </tr>\n",
       "    <tr>\n",
       "      <th rowspan=\"4\" valign=\"top\">4</th>\n",
       "      <th>bing</th>\n",
       "      <td>4523266.0</td>\n",
       "      <td>132151.61610</td>\n",
       "      <td>105817.671701</td>\n",
       "      <td>1369.79754</td>\n",
       "    </tr>\n",
       "    <tr>\n",
       "      <th>facebook</th>\n",
       "      <td>206245.0</td>\n",
       "      <td>5609.73420</td>\n",
       "      <td>10438.074745</td>\n",
       "      <td>8.93832</td>\n",
       "    </tr>\n",
       "    <tr>\n",
       "      <th>facebook.com</th>\n",
       "      <td>5234587.0</td>\n",
       "      <td>134392.81926</td>\n",
       "      <td>93274.110758</td>\n",
       "      <td>1016.73390</td>\n",
       "    </tr>\n",
       "    <tr>\n",
       "      <th>google</th>\n",
       "      <td>8205379.0</td>\n",
       "      <td>197481.47748</td>\n",
       "      <td>101207.816174</td>\n",
       "      <td>1300.52556</td>\n",
       "    </tr>\n",
       "  </tbody>\n",
       "</table>\n",
       "</div>"
      ],
      "text/plain": [
       "                          Impr.        Clicks           Cost       Leads\n",
       "quarter Source                                                          \n",
       "3       bing          3392360.0   71475.00906   81807.405538   368.70570\n",
       "        facebook       150052.0    3739.82280    1776.506120    44.69160\n",
       "        facebook.com  2946333.0   86259.41646  132179.983531  1369.79754\n",
       "        google        5729719.0  153040.81338  161339.526177  1696.04622\n",
       "4       bing          4523266.0  132151.61610  105817.671701  1369.79754\n",
       "        facebook       206245.0    5609.73420   10438.074745     8.93832\n",
       "        facebook.com  5234587.0  134392.81926   93274.110758  1016.73390\n",
       "        google        8205379.0  197481.47748  101207.816174  1300.52556"
      ]
     },
     "execution_count": 254,
     "metadata": {},
     "output_type": "execute_result"
    }
   ],
   "source": [
    "# Сгруппируем по кварталу и источнику\n",
    "task_3 = data.groupby(['quarter','Source']).sum()\n",
    "task_3"
   ]
  },
  {
   "attachments": {},
   "cell_type": "markdown",
   "id": "8bd2702a",
   "metadata": {},
   "source": [
    "Допущу, что платный трафик это любой трафик, где заполнена Campaign, а значит в исходных данных не нужно разделять платный/бесплатный трафик. Каждая строчка в исходных данных имеет кампанию.\n",
    "\n",
    "#### Ответ: больше всего лидов получено из канала google в Q3"
   ]
  },
  {
   "cell_type": "markdown",
   "id": "5ccd83fb",
   "metadata": {},
   "source": [
    "###  4. Какой тип кампании имеет самый высокий показатель конверсии из клика в лид суммарно за два квартала?\n",
    "\n",
    "* Допущу, что под типом кампании подразумевается префикс в названии, который заканчивается на _, либо на -, либо .\n",
    "* Например в Search-brand-eng-rest.reg, тип это Search, а последующие слова подтип и название\n",
    "* Таким образом у нас всего 4 типа кампаний: Search, Video, display, GDN"
   ]
  },
  {
   "cell_type": "code",
   "execution_count": 255,
   "id": "607c5423",
   "metadata": {
    "scrolled": false
   },
   "outputs": [
    {
     "data": {
      "text/html": [
       "<div>\n",
       "<style scoped>\n",
       "    .dataframe tbody tr th:only-of-type {\n",
       "        vertical-align: middle;\n",
       "    }\n",
       "\n",
       "    .dataframe tbody tr th {\n",
       "        vertical-align: top;\n",
       "    }\n",
       "\n",
       "    .dataframe thead th {\n",
       "        text-align: right;\n",
       "    }\n",
       "</style>\n",
       "<table border=\"1\" class=\"dataframe\">\n",
       "  <thead>\n",
       "    <tr style=\"text-align: right;\">\n",
       "      <th></th>\n",
       "      <th>Source</th>\n",
       "      <th>Country</th>\n",
       "      <th>Campaign</th>\n",
       "      <th>Year Month</th>\n",
       "      <th>Impr.</th>\n",
       "      <th>Clicks</th>\n",
       "      <th>Cost</th>\n",
       "      <th>Leads</th>\n",
       "      <th>quarter</th>\n",
       "      <th>Country_group</th>\n",
       "    </tr>\n",
       "  </thead>\n",
       "  <tbody>\n",
       "    <tr>\n",
       "      <th>0</th>\n",
       "      <td>google</td>\n",
       "      <td>Anguilla</td>\n",
       "      <td>Search-brand-spanish</td>\n",
       "      <td>2021-07-01</td>\n",
       "      <td>1.0</td>\n",
       "      <td>0.0</td>\n",
       "      <td>0.0</td>\n",
       "      <td>0.0</td>\n",
       "      <td>3</td>\n",
       "      <td>Group_2</td>\n",
       "    </tr>\n",
       "    <tr>\n",
       "      <th>1</th>\n",
       "      <td>google</td>\n",
       "      <td>Anguilla</td>\n",
       "      <td>Search-generic-eng-3st.group</td>\n",
       "      <td>2021-07-01</td>\n",
       "      <td>2.0</td>\n",
       "      <td>0.0</td>\n",
       "      <td>0.0</td>\n",
       "      <td>0.0</td>\n",
       "      <td>3</td>\n",
       "      <td>Group_2</td>\n",
       "    </tr>\n",
       "    <tr>\n",
       "      <th>2</th>\n",
       "      <td>google</td>\n",
       "      <td>Antigua and Barbuda</td>\n",
       "      <td>Search-generic-eng-3st.group</td>\n",
       "      <td>2021-07-01</td>\n",
       "      <td>2.0</td>\n",
       "      <td>0.0</td>\n",
       "      <td>0.0</td>\n",
       "      <td>0.0</td>\n",
       "      <td>3</td>\n",
       "      <td>Group_2</td>\n",
       "    </tr>\n",
       "  </tbody>\n",
       "</table>\n",
       "</div>"
      ],
      "text/plain": [
       "   Source              Country                      Campaign Year Month  \\\n",
       "0  google             Anguilla          Search-brand-spanish 2021-07-01   \n",
       "1  google             Anguilla  Search-generic-eng-3st.group 2021-07-01   \n",
       "2  google  Antigua and Barbuda  Search-generic-eng-3st.group 2021-07-01   \n",
       "\n",
       "   Impr.  Clicks  Cost  Leads  quarter Country_group  \n",
       "0    1.0     0.0   0.0    0.0        3       Group_2  \n",
       "1    2.0     0.0   0.0    0.0        3       Group_2  \n",
       "2    2.0     0.0   0.0    0.0        3       Group_2  "
      ]
     },
     "execution_count": 255,
     "metadata": {},
     "output_type": "execute_result"
    }
   ],
   "source": [
    "data.head(3)"
   ]
  },
  {
   "cell_type": "markdown",
   "id": "d7123cde",
   "metadata": {},
   "source": [
    "* Напишем костыль, который я бы не стал применять на проде, но для ad-hoc пойдет\n",
    "* Если есть задача считать что-то в разрезе типа РК, то нужно выгружать этот тип"
   ]
  },
  {
   "cell_type": "code",
   "execution_count": 316,
   "id": "8d7863b2",
   "metadata": {},
   "outputs": [],
   "source": [
    "# Пишем функцию для разметки групп\n",
    "\n",
    "def campaign_mapper(campaign):\n",
    "    if campaign[0].lower() == \"s\":\n",
    "        return('Search')\n",
    "    if campaign[0].lower() == \"v\":\n",
    "        return('Video')\n",
    "    if campaign[0].lower() == \"d\":\n",
    "        return(\"Display\")\n",
    "    if campaign[0].lower() == \"g\":\n",
    "        return(\"GDN\")"
   ]
  },
  {
   "cell_type": "code",
   "execution_count": 317,
   "id": "24d62056",
   "metadata": {},
   "outputs": [],
   "source": [
    "# Используем функцию\n",
    "data['campaign_type'] = data.apply(lambda data: campaign_mapper(data['Campaign']), axis=1)"
   ]
  },
  {
   "cell_type": "code",
   "execution_count": 323,
   "id": "056728ae",
   "metadata": {
    "scrolled": true
   },
   "outputs": [
    {
     "data": {
      "text/html": [
       "<div>\n",
       "<style scoped>\n",
       "    .dataframe tbody tr th:only-of-type {\n",
       "        vertical-align: middle;\n",
       "    }\n",
       "\n",
       "    .dataframe tbody tr th {\n",
       "        vertical-align: top;\n",
       "    }\n",
       "\n",
       "    .dataframe thead th {\n",
       "        text-align: right;\n",
       "    }\n",
       "</style>\n",
       "<table border=\"1\" class=\"dataframe\">\n",
       "  <thead>\n",
       "    <tr style=\"text-align: right;\">\n",
       "      <th></th>\n",
       "      <th>Impr.</th>\n",
       "      <th>Clicks</th>\n",
       "      <th>Cost</th>\n",
       "      <th>Leads</th>\n",
       "      <th>quarter</th>\n",
       "      <th>CR</th>\n",
       "    </tr>\n",
       "    <tr>\n",
       "      <th>campaign_type</th>\n",
       "      <th></th>\n",
       "      <th></th>\n",
       "      <th></th>\n",
       "      <th></th>\n",
       "      <th></th>\n",
       "      <th></th>\n",
       "    </tr>\n",
       "  </thead>\n",
       "  <tbody>\n",
       "    <tr>\n",
       "      <th>Display</th>\n",
       "      <td>8537217.0</td>\n",
       "      <td>230001.79272</td>\n",
       "      <td>237668.675153</td>\n",
       "      <td>2440.16136</td>\n",
       "      <td>24262</td>\n",
       "      <td>0.010609</td>\n",
       "    </tr>\n",
       "    <tr>\n",
       "      <th>GDN</th>\n",
       "      <td>1956041.0</td>\n",
       "      <td>46258.11036</td>\n",
       "      <td>27894.954450</td>\n",
       "      <td>484.90386</td>\n",
       "      <td>5726</td>\n",
       "      <td>0.010483</td>\n",
       "    </tr>\n",
       "    <tr>\n",
       "      <th>Search</th>\n",
       "      <td>19872284.0</td>\n",
       "      <td>507235.66404</td>\n",
       "      <td>421890.392941</td>\n",
       "      <td>4250.17116</td>\n",
       "      <td>46264</td>\n",
       "      <td>0.008379</td>\n",
       "    </tr>\n",
       "    <tr>\n",
       "      <th>Video</th>\n",
       "      <td>22399.0</td>\n",
       "      <td>655.14162</td>\n",
       "      <td>387.072198</td>\n",
       "      <td>0.00000</td>\n",
       "      <td>152</td>\n",
       "      <td>0.000000</td>\n",
       "    </tr>\n",
       "  </tbody>\n",
       "</table>\n",
       "</div>"
      ],
      "text/plain": [
       "                    Impr.        Clicks           Cost       Leads  quarter  \\\n",
       "campaign_type                                                                 \n",
       "Display         8537217.0  230001.79272  237668.675153  2440.16136    24262   \n",
       "GDN             1956041.0   46258.11036   27894.954450   484.90386     5726   \n",
       "Search         19872284.0  507235.66404  421890.392941  4250.17116    46264   \n",
       "Video             22399.0     655.14162     387.072198     0.00000      152   \n",
       "\n",
       "                     CR  \n",
       "campaign_type            \n",
       "Display        0.010609  \n",
       "GDN            0.010483  \n",
       "Search         0.008379  \n",
       "Video          0.000000  "
      ]
     },
     "execution_count": 323,
     "metadata": {},
     "output_type": "execute_result"
    }
   ],
   "source": [
    "# Группируем по типу кампании и считаем конверсию\n",
    "task_4 = data.groupby(['campaign_type']).sum()\n",
    "task_4['CR'] = task_4['Leads'] / task_4['Clicks']\n",
    "task_4"
   ]
  },
  {
   "cell_type": "markdown",
   "id": "19de5c4f",
   "metadata": {},
   "source": [
    "#### Ответ: самый высокий показатель конверсии из клика в лид суммарно за два квартала имеет тип кампании Display"
   ]
  }
 ],
 "metadata": {
  "kernelspec": {
   "display_name": "Python 3 (ipykernel)",
   "language": "python",
   "name": "python3"
  },
  "language_info": {
   "codemirror_mode": {
    "name": "ipython",
    "version": 3
   },
   "file_extension": ".py",
   "mimetype": "text/x-python",
   "name": "python",
   "nbconvert_exporter": "python",
   "pygments_lexer": "ipython3",
   "version": "3.9.12"
  }
 },
 "nbformat": 4,
 "nbformat_minor": 5
}
